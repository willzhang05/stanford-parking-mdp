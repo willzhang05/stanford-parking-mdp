{
  "nbformat": 4,
  "nbformat_minor": 0,
  "metadata": {
    "colab": {
      "provenance": []
    },
    "kernelspec": {
      "name": "python3",
      "display_name": "Python 3"
    },
    "language_info": {
      "name": "python"
    }
  },
  "cells": [
    {
      "cell_type": "code",
      "source": [
        "# Try 1 on Simple Parking Problem with 3 Parking lots and just choosing which one to go to\n",
        "import numpy as np\n",
        "import random\n",
        "\n",
        "\n",
        "# Define parameters\n",
        "parking_lots = [\"Roth Way Garage\", \"Museum Way Parking\", \"Hoover Parking Garage\", \"Stock Farm Garage\", \"Roble Field\"]\n",
        "probabilities = [0.05, 0.1, 0.55, 0.25, 0.05]  # Probabilities\n",
        "costs = [12, 13, 25, 17, 7]\n",
        "rewards = 75  # Reward for successfully parking\n",
        "episodes = 10000\n",
        "alpha = 0.1  # Learning rate\n",
        "gamma = 0.15  # Discount factor\n",
        "epsilon = 0.1  # Exploration rate\n",
        "\n",
        "# Initialize Q-table\n",
        "states = [tuple()]  # Start with empty state (no lots visited)\n",
        "actions = parking_lots\n",
        "Q = {state: {action: 0 for action in actions if action not in state} for state in states}\n",
        "\n",
        "# Helper functions\n",
        "def is_parking_available(lot, probabilities):\n",
        "    \"\"\"Simulate parking availability based on probability.\"\"\"\n",
        "    return np.random.rand() < probabilities[parking_lots.index(lot)]\n",
        "\n",
        "def get_next_state(state, action):\n",
        "    \"\"\"Generate the next state by adding the current action to the visited list.\"\"\"\n",
        "    return tuple(sorted(list(state) + [action]))\n",
        "\n",
        "def expand_state_space(state, action):\n",
        "    \"\"\"Dynamically expand the state space by adding new states.\"\"\"\n",
        "    next_state = get_next_state(state, action)\n",
        "    if next_state not in Q:\n",
        "        Q[next_state] = {a: 0 for a in actions if a not in next_state}\n",
        "    return next_state\n",
        "\n",
        "# Q-learning with fix for terminal states\n",
        "for episode in range(episodes):\n",
        "    state = tuple()  # Start from no lots visited\n",
        "    done = False\n",
        "    while not done:\n",
        "        # Choose action (epsilon-greedy)\n",
        "        valid_actions = [a for a in actions if a not in state]\n",
        "        if not valid_actions:\n",
        "            break  # Terminal state, no actions left\n",
        "        if random.uniform(0, 1) < epsilon:\n",
        "            action = random.choice(valid_actions)\n",
        "        else:\n",
        "            action = max(Q[state], key=Q[state].get)\n",
        "\n",
        "        # Check if parking is available\n",
        "        if is_parking_available(action, probabilities):\n",
        "            reward = rewards - costs[parking_lots.index(action)]\n",
        "            next_state = get_next_state(state, action)\n",
        "            Q[state][action] += alpha * (reward - Q[state][action])\n",
        "            done = True\n",
        "        else:\n",
        "            reward = -costs[parking_lots.index(action)]\n",
        "            next_state = expand_state_space(state, action)\n",
        "            Q[state][action] += alpha * (\n",
        "                reward + gamma * max(Q[next_state].values(), default=0) - Q[state][action]\n",
        "            )\n",
        "            state = next_state\n",
        "\n",
        "# Derive policy from Q-table\n",
        "policy = {}\n",
        "for state in Q:\n",
        "    if Q[state]:\n",
        "        policy[state] = max(Q[state], key=Q[state].get)\n",
        "\n",
        "# Display the learned policy\n",
        "print(\"Learned Policy:\")\n",
        "for state, action in policy.items():\n",
        "    print(f\"State {state} -> Action {action}\")\n"
      ],
      "metadata": {
        "id": "C5lFOsGJxEJc",
        "colab": {
          "base_uri": "https://localhost:8080/"
        },
        "outputId": "21ec308a-af62-429b-fcfc-a1e67a7cea20"
      },
      "execution_count": null,
      "outputs": [
        {
          "output_type": "stream",
          "name": "stdout",
          "text": [
            "Learned Policy:\n",
            "State () -> Action Hoover Parking Garage\n",
            "State ('Roth Way Garage',) -> Action Stock Farm Garage\n",
            "State ('Museum Way Parking', 'Roth Way Garage') -> Action Hoover Parking Garage\n",
            "State ('Museum Way Parking',) -> Action Hoover Parking Garage\n",
            "State ('Hoover Parking Garage', 'Museum Way Parking', 'Roth Way Garage') -> Action Stock Farm Garage\n",
            "State ('Hoover Parking Garage', 'Museum Way Parking', 'Roth Way Garage', 'Stock Farm Garage') -> Action Roble Field\n",
            "State ('Hoover Parking Garage',) -> Action Roble Field\n",
            "State ('Hoover Parking Garage', 'Roth Way Garage') -> Action Roble Field\n",
            "State ('Hoover Parking Garage', 'Museum Way Parking', 'Roble Field', 'Roth Way Garage') -> Action Stock Farm Garage\n",
            "State ('Stock Farm Garage',) -> Action Hoover Parking Garage\n",
            "State ('Museum Way Parking', 'Stock Farm Garage') -> Action Roble Field\n",
            "State ('Museum Way Parking', 'Roth Way Garage', 'Stock Farm Garage') -> Action Roble Field\n",
            "State ('Roble Field',) -> Action Museum Way Parking\n",
            "State ('Roble Field', 'Roth Way Garage') -> Action Stock Farm Garage\n",
            "State ('Museum Way Parking', 'Roble Field', 'Roth Way Garage') -> Action Stock Farm Garage\n",
            "State ('Museum Way Parking', 'Roble Field') -> Action Hoover Parking Garage\n",
            "State ('Roth Way Garage', 'Stock Farm Garage') -> Action Roble Field\n",
            "State ('Hoover Parking Garage', 'Stock Farm Garage') -> Action Roble Field\n",
            "State ('Hoover Parking Garage', 'Roth Way Garage', 'Stock Farm Garage') -> Action Museum Way Parking\n",
            "State ('Museum Way Parking', 'Roble Field', 'Roth Way Garage', 'Stock Farm Garage') -> Action Hoover Parking Garage\n",
            "State ('Hoover Parking Garage', 'Museum Way Parking') -> Action Roble Field\n",
            "State ('Hoover Parking Garage', 'Museum Way Parking', 'Roble Field') -> Action Roth Way Garage\n",
            "State ('Hoover Parking Garage', 'Museum Way Parking', 'Stock Farm Garage') -> Action Roble Field\n",
            "State ('Hoover Parking Garage', 'Roble Field', 'Roth Way Garage', 'Stock Farm Garage') -> Action Museum Way Parking\n",
            "State ('Hoover Parking Garage', 'Roble Field', 'Roth Way Garage') -> Action Stock Farm Garage\n",
            "State ('Hoover Parking Garage', 'Roble Field', 'Stock Farm Garage') -> Action Roth Way Garage\n",
            "State ('Roble Field', 'Roth Way Garage', 'Stock Farm Garage') -> Action Hoover Parking Garage\n",
            "State ('Roble Field', 'Stock Farm Garage') -> Action Hoover Parking Garage\n",
            "State ('Hoover Parking Garage', 'Roble Field') -> Action Roth Way Garage\n",
            "State ('Hoover Parking Garage', 'Museum Way Parking', 'Roble Field', 'Stock Farm Garage') -> Action Roth Way Garage\n",
            "State ('Museum Way Parking', 'Roble Field', 'Stock Farm Garage') -> Action Hoover Parking Garage\n"
          ]
        }
      ]
    },
    {
      "cell_type": "code",
      "source": [
        "!pip install osrm geopy polyline==1.4.0 matplotlib"
      ],
      "metadata": {
        "colab": {
          "base_uri": "https://localhost:8080/"
        },
        "id": "zw1CRiT79RyR",
        "outputId": "324bd3fc-f4b3-4e8e-9d1f-b00f35ee185b"
      },
      "execution_count": null,
      "outputs": [
        {
          "output_type": "stream",
          "name": "stdout",
          "text": [
            "Collecting osrm\n",
            "  Downloading osrm-0.11.3-py3-none-any.whl.metadata (414 bytes)\n",
            "Requirement already satisfied: geopy in /usr/local/lib/python3.10/dist-packages (2.4.1)\n",
            "Collecting polyline==1.4.0\n",
            "  Downloading polyline-1.4.0-py2.py3-none-any.whl.metadata (2.6 kB)\n",
            "Requirement already satisfied: matplotlib in /usr/local/lib/python3.10/dist-packages (3.8.0)\n",
            "Requirement already satisfied: six>=1.8.0 in /usr/local/lib/python3.10/dist-packages (from polyline==1.4.0) (1.16.0)\n",
            "Requirement already satisfied: GDAL in /usr/local/lib/python3.10/dist-packages (from osrm) (3.6.4)\n",
            "Requirement already satisfied: numpy in /usr/local/lib/python3.10/dist-packages (from osrm) (1.26.4)\n",
            "Requirement already satisfied: pandas in /usr/local/lib/python3.10/dist-packages (from osrm) (2.2.2)\n",
            "Requirement already satisfied: shapely in /usr/local/lib/python3.10/dist-packages (from osrm) (2.0.6)\n",
            "Requirement already satisfied: geopandas in /usr/local/lib/python3.10/dist-packages (from osrm) (1.0.1)\n",
            "Requirement already satisfied: geographiclib<3,>=1.52 in /usr/local/lib/python3.10/dist-packages (from geopy) (2.0)\n",
            "Requirement already satisfied: contourpy>=1.0.1 in /usr/local/lib/python3.10/dist-packages (from matplotlib) (1.3.1)\n",
            "Requirement already satisfied: cycler>=0.10 in /usr/local/lib/python3.10/dist-packages (from matplotlib) (0.12.1)\n",
            "Requirement already satisfied: fonttools>=4.22.0 in /usr/local/lib/python3.10/dist-packages (from matplotlib) (4.55.0)\n",
            "Requirement already satisfied: kiwisolver>=1.0.1 in /usr/local/lib/python3.10/dist-packages (from matplotlib) (1.4.7)\n",
            "Requirement already satisfied: packaging>=20.0 in /usr/local/lib/python3.10/dist-packages (from matplotlib) (24.2)\n",
            "Requirement already satisfied: pillow>=6.2.0 in /usr/local/lib/python3.10/dist-packages (from matplotlib) (11.0.0)\n",
            "Requirement already satisfied: pyparsing>=2.3.1 in /usr/local/lib/python3.10/dist-packages (from matplotlib) (3.2.0)\n",
            "Requirement already satisfied: python-dateutil>=2.7 in /usr/local/lib/python3.10/dist-packages (from matplotlib) (2.8.2)\n",
            "Requirement already satisfied: pyogrio>=0.7.2 in /usr/local/lib/python3.10/dist-packages (from geopandas->osrm) (0.10.0)\n",
            "Requirement already satisfied: pyproj>=3.3.0 in /usr/local/lib/python3.10/dist-packages (from geopandas->osrm) (3.7.0)\n",
            "Requirement already satisfied: pytz>=2020.1 in /usr/local/lib/python3.10/dist-packages (from pandas->osrm) (2024.2)\n",
            "Requirement already satisfied: tzdata>=2022.7 in /usr/local/lib/python3.10/dist-packages (from pandas->osrm) (2024.2)\n",
            "Requirement already satisfied: certifi in /usr/local/lib/python3.10/dist-packages (from pyogrio>=0.7.2->geopandas->osrm) (2024.8.30)\n",
            "Downloading polyline-1.4.0-py2.py3-none-any.whl (4.4 kB)\n",
            "Downloading osrm-0.11.3-py3-none-any.whl (10 kB)\n",
            "Installing collected packages: polyline, osrm\n",
            "Successfully installed osrm-0.11.3 polyline-1.4.0\n"
          ]
        }
      ]
    },
    {
      "cell_type": "code",
      "source": [
        "import numpy as np\n",
        "import random\n",
        "import requests\n",
        "import geopy\n",
        "import pprint as pp\n",
        "from typing import List, Tuple\n",
        "from scipy.stats import beta"
      ],
      "metadata": {
        "id": "Ers2wuRo9N7-"
      },
      "execution_count": 1,
      "outputs": []
    },
    {
      "cell_type": "code",
      "source": [
        "API_URL = \"http://router.project-osrm.org/route/v1/{profile}/{lon1},{lat1};{lon2},{lat2}\"\n",
        "GEOLOCATOR = geopy.geocoders.Nominatim(user_agent=\"My Geocoder\")\n",
        "\n",
        "class Location:\n",
        "    def __init__(self, name: str, lat: float = None, lon: float = None):\n",
        "        self.name = name\n",
        "        self.lat = lat\n",
        "        self.lon = lon\n",
        "\n",
        "    def __repr__(self):\n",
        "        return str(self.__dict__)\n",
        "\n",
        "    @classmethod\n",
        "    def from_name(cls, name: str):\n",
        "        coords = GEOLOCATOR.geocode(name, exactly_one=True)\n",
        "        if coords:\n",
        "            return Location(name=name, lat=coords.latitude, lon=coords.longitude)\n",
        "        else:\n",
        "            return None\n",
        "\n",
        "    @staticmethod\n",
        "    def get_distance(profile: str, lat1: float, lon1: float, lat2: float, lon2: float):\n",
        "        \"\"\"\n",
        "        Get the distance between two points using the OSRM API.\n",
        "        - profile: Either \"walking\" or \"driving\"\n",
        "        - lat1, lon1: Coordinates of the first location\n",
        "        - lat2, lon2: Coordinates of the second location\n",
        "        Returns the distance in meters.\n",
        "        \"\"\"\n",
        "        url = API_URL.format(profile=profile, lat1=lat1, lon1=lon1, lat2=lat2, lon2=lon2)\n",
        "        params = {\"overview\": \"false\"}\n",
        "        response = requests.get(url, params=params)\n",
        "        if response.status_code == 200:\n",
        "            data = response.json()\n",
        "            distance = data[\"routes\"][0][\"distance\"]  # distance in meters\n",
        "            return distance\n",
        "        else:\n",
        "            raise Exception(f\"Error: {response.status_code} - {response.text}\")\n",
        "\n",
        "    @staticmethod\n",
        "    def get_duration_by_distance(distance: float, speed: float):\n",
        "        \"\"\"\n",
        "        Calculate duration by dividing distance by speed.\n",
        "        - distance: in meters\n",
        "        - speed: in meters per second\n",
        "        Returns the duration in minutes.\n",
        "        \"\"\"\n",
        "        duration_seconds = distance / speed\n",
        "        return duration_seconds / 60.0  # convert to minutes\n",
        "\n",
        "    def get_walking_duration_to(self, other, speed_mph: float = 3):\n",
        "        # Get the distance in meters for walking\n",
        "        distance = self.get_distance(\"walking\", self.lat, self.lon, other.lat, other.lon)\n",
        "        # Convert MPH to M/S\n",
        "        speed_mps = speed_mph * 0.44704\n",
        "        return self.get_duration_by_distance(distance, speed_mps)\n",
        "\n",
        "    def get_driving_duration_to(self, other, speed_mph: float = 15):\n",
        "        # Get the distance in meters for driving\n",
        "        distance = self.get_distance(\"driving\", self.lat, self.lon, other.lat, other.lon)\n",
        "        # Convert MPH to M/S\n",
        "        speed_mps = speed_mph * 0.44704\n",
        "        return self.get_duration_by_distance(distance, speed_mps)\n"
      ],
      "metadata": {
        "id": "3YUdJoFi9ZoV"
      },
      "execution_count": 2,
      "outputs": []
    },
    {
      "cell_type": "code",
      "source": [
        "class ParkingStructure:\n",
        "    def __init__(self, index: int, location: Location, is_full: bool = False):\n",
        "        self.index = index\n",
        "        self.location = location  # Location object representing the parking structure\n",
        "\n",
        "    def __repr__(self):\n",
        "        return str(self.__dict__)"
      ],
      "metadata": {
        "id": "ucQdGKa_d6xZ"
      },
      "execution_count": 3,
      "outputs": []
    },
    {
      "cell_type": "code",
      "source": [
        "class QLearningParking:\n",
        "    def __init__(self,\n",
        "                 parking_structures: List[ParkingStructure],\n",
        "                 start: Location,\n",
        "                 end: Location,\n",
        "                 prior: List[List[int]] = None,\n",
        "                 alpha: float = 0.1,\n",
        "                 gamma: float = 0.9,\n",
        "                 epsilon: float= 0.1,\n",
        "                 precomputed_duration: List[List[float]] = None):\n",
        "        self.parking_structures = parking_structures\n",
        "        self.start = start\n",
        "        self.end = end\n",
        "        self.alpha = alpha # Learning rate\n",
        "        self.gamma = gamma # Discount factor\n",
        "        self.epsilon = epsilon # Exploration rate\n",
        "\n",
        "        # Initialize prior belief about the probability of finding parking at each structure using the Beta distribution.\n",
        "        # prior_alpha represents success counts, prior_beta represents fail counts\n",
        "        if prior:\n",
        "            self.prior = prior\n",
        "        else:\n",
        "            self.prior = [[1.0, 1.0]] * len(parking_structures) # Uniform prior\n",
        "\n",
        "        if precomputed_duration:\n",
        "            self.duration_matrix = precomputed_duration\n",
        "        else:\n",
        "            self.duration_matrix = self.precompute_duration()\n",
        "\n",
        "        self.start_duration = [self.start.get_driving_duration_to(parking.location) for parking in self.parking_structures]\n",
        "        self.end_duration = [parking.location.get_walking_duration_to(self.end) for parking in self.parking_structures]\n",
        "\n",
        "        self.table = dict()\n",
        "\n",
        "\n",
        "    @classmethod\n",
        "    def success_prob_to_prior(cls, prob: float):\n",
        "        return [int(round(prob * 100.0)), int(round((1 - prob) * 100.0))]\n",
        "\n",
        "    def precompute_duration(self):\n",
        "        \"\"\"\n",
        "        Precompute the duration of time (driving) between all pairs of parking structures\n",
        "        and store them in a matrix.\n",
        "        \"\"\"\n",
        "        num_structures = len(self.parking_structures)\n",
        "        duration_matrix = np.zeros((num_structures, num_structures))\n",
        "        print(\"Precomputing duration of time between all pairs of parking structures.\")\n",
        "        for i in range(num_structures):\n",
        "            for j in range(i + 1, num_structures):\n",
        "                # Calculate driving durations between parking structures i and j\n",
        "\n",
        "                duration = self.parking_structures[i].location.get_driving_duration_to(self.parking_structures[j].location)\n",
        "                print(self.parking_structures[i].location.name, \"->\", self.parking_structures[j].location.name, \":\", duration, \"mins\")\n",
        "                duration_matrix[i][j] = duration\n",
        "                duration_matrix[j][i] = duration # Mirror the values for j->i\n",
        "        return duration_matrix\n",
        "\n",
        "    def choose_action(self, state: Tuple[int], valid_actions: List[int]):\n",
        "        \"\"\"\n",
        "        Using Epsilon-greedy, choose an action (parking structure).\n",
        "        - valid_actions: List of indices of parking structures that are not full.\n",
        "        - state: Current state as a list.\n",
        "        \"\"\"\n",
        "\n",
        "        # Ensure the current state is in the Q-table\n",
        "        if state not in self.table:\n",
        "            self.table[state] = np.zeros(len(self.parking_structures))\n",
        "\n",
        "        if random.uniform(0, 1) < self.epsilon:\n",
        "            # Choose a random valid action\n",
        "            action = random.choice(valid_actions)\n",
        "        else:\n",
        "            # Choose the action with the highest Q-value among valid actions\n",
        "            mask = np.ones_like(self.table[state], dtype=bool)\n",
        "            for visited in state:\n",
        "                mask[visited] = False\n",
        "\n",
        "            # mask off indices of parking structures we already visited\n",
        "            masked_q_values = np.where(mask, self.table[state], -np.inf)\n",
        "            action = np.argmax(masked_q_values)\n",
        "\n",
        "        return action\n",
        "\n",
        "    def get_reward(self, current: ParkingStructure, next: ParkingStructure, found_parking: bool):\n",
        "        \"\"\"\n",
        "        Determine reward\n",
        "        \"\"\"\n",
        "        reward = 0.0\n",
        "        if current == self.start:\n",
        "            # driving duration from start to first parking tried\n",
        "            reward -= self.start_duration[next.index]\n",
        "        else:\n",
        "          if found_parking:\n",
        "              # success, found parking\n",
        "              self.prior[current.index][0] += 1\n",
        "              # walking duration to final destination from successful parking\n",
        "              reward -= self.end_duration[current.index]\n",
        "          else:\n",
        "              # failure, did not find parking\n",
        "              self.prior[current.index][1] += 1\n",
        "\n",
        "              # have to spend time driving to the next parking structure\n",
        "              reward -= self.duration_matrix[current.index][next.index]\n",
        "\n",
        "        return reward\n",
        "\n",
        "    def update(self, state: List[int], action: int, reward: float, next_state: List[int]):\n",
        "        \"\"\"\n",
        "        Update Q-value table\n",
        "        - state: Current state as a list (binary vector indicating visited parking structures)\n",
        "        - action: The index of the action (parking structure) taken\n",
        "        - reward: The reward received\n",
        "        - next_state: Next state as a list\n",
        "        \"\"\"\n",
        "\n",
        "        # Ensure the current and next states are in the Q-table\n",
        "        if state not in self.table:\n",
        "            self.table[state] = np.zeros(len(self.parking_structures))\n",
        "\n",
        "        if next_state not in self.table:\n",
        "            self.table[next_state] = np.zeros(len(self.parking_structures))\n",
        "\n",
        "        # Get the current Q-value\n",
        "        current_q = self.table[state][action]\n",
        "\n",
        "        # Calculate the maximum Q-value for the next state\n",
        "        max_future_q = max(self.table[next_state])\n",
        "\n",
        "        # Update Q-value using the Bellman equation\n",
        "        self.table[state][action] = current_q + self.alpha * (reward + self.gamma * max_future_q - current_q)\n",
        "\n",
        "    def train(self, episodes: int = 1000):\n",
        "        \"\"\"\n",
        "        Train the model\n",
        "        \"\"\"\n",
        "        for episode in range(episodes):\n",
        "            state = tuple()\n",
        "            current = self.start\n",
        "            while True:\n",
        "                # Determine valid actions based on state\n",
        "                valid_actions = list(set(range(len(self.parking_structures))) - set(state))\n",
        "                if not valid_actions:\n",
        "                    # No valid actions left, didn't find parking, apply large negative reward.\n",
        "                    reward = -9999\n",
        "                    self.update(state, action, reward, state)\n",
        "                    break\n",
        "\n",
        "                action = self.choose_action(state, valid_actions)\n",
        "\n",
        "                next_state = state + tuple((action,))\n",
        "                next = self.parking_structures[action]\n",
        "\n",
        "                success_prob = beta.mean(*self.prior[action])\n",
        "                found_parking = random.random() < success_prob\n",
        "\n",
        "                reward = self.get_reward(current, next, found_parking)\n",
        "                self.update(state, action, reward, next_state)\n",
        "\n",
        "                state = next_state\n",
        "                current = next"
      ],
      "metadata": {
        "id": "eAF5F9Mu_E2c"
      },
      "execution_count": 11,
      "outputs": []
    },
    {
      "cell_type": "code",
      "source": [
        "# Prior for likelihood of finding parking at each parking structure\n",
        "parking_probability_map = {\n",
        "    \"Roble Field Garage\" : 0.30,\n",
        "    \"Via Ortega Garage\": 0.05,\n",
        "#    \"Stock Farm Garage\": 0.10,\n",
        "#    \"Tressider Student Union\": 0.10,\n",
        "    \"Wilbur Field Garage\": 0.01,\n",
        "}\n",
        "\n",
        "\n",
        "parking_structures = []\n",
        "prior = []\n",
        "for i, (name, prob) in enumerate(parking_probability_map.items()):\n",
        "    prior.append(QLearningParking.success_prob_to_prior(prob))\n",
        "    location = Location.from_name(name)\n",
        "    parking_structures.append(ParkingStructure(i, location))\n",
        "\n",
        "start_point_name = \"Galvez Street & El Camino Real\"\n",
        "start_point = Location.from_name(start_point_name)\n",
        "end_point_name = \"NVIDIA Auditorium\"\n",
        "end_point = Location.from_name(end_point_name)\n",
        "print(start_point)\n",
        "print(end_point)\n",
        "print(prior)"
      ],
      "metadata": {
        "colab": {
          "base_uri": "https://localhost:8080/"
        },
        "id": "05YpaPdiMfPN",
        "outputId": "10e78b4b-ca2c-480f-ee06-e921d5ea2776"
      },
      "execution_count": 21,
      "outputs": [
        {
          "output_type": "stream",
          "name": "stdout",
          "text": [
            "{'name': 'Galvez Street & El Camino Real', 'lat': 37.4369847, 'lon': -122.1611878}\n",
            "{'name': 'NVIDIA Auditorium', 'lat': 37.4281301, 'lon': -122.1742004}\n",
            "[[30, 70], [5, 95], [1, 99]]\n"
          ]
        }
      ]
    },
    {
      "cell_type": "code",
      "source": [
        "q_learn = QLearningParking(parking_structures=parking_structures,\n",
        "                           start=start_point,\n",
        "                           end=end_point,\n",
        "                           prior=prior,\n",
        "                           alpha=0.1,\n",
        "                           gamma=0.15,\n",
        "                           epsilon=0.1)"
      ],
      "metadata": {
        "colab": {
          "base_uri": "https://localhost:8080/"
        },
        "id": "JkfzFbfV1l1q",
        "outputId": "ec71221c-36e9-47f2-da54-ddb5e39e1701"
      },
      "execution_count": 29,
      "outputs": [
        {
          "output_type": "stream",
          "name": "stdout",
          "text": [
            "Precomputing duration of time between all pairs of parking structures.\n",
            "Roble Field Garage -> Via Ortega Garage : 0.5589855245367057 mins\n",
            "Roble Field Garage -> Wilbur Field Garage : 4.15374214586813 mins\n",
            "Via Ortega Garage -> Wilbur Field Garage : 4.712976218881732 mins\n"
          ]
        }
      ]
    },
    {
      "cell_type": "code",
      "source": [
        "pp.pprint(q_learn.duration_matrix)"
      ],
      "metadata": {
        "colab": {
          "base_uri": "https://localhost:8080/"
        },
        "id": "ZD5F5Tf9_4zT",
        "outputId": "b825828e-de01-4b4f-ccd3-ffdb8099aba5"
      },
      "execution_count": 30,
      "outputs": [
        {
          "output_type": "stream",
          "name": "stdout",
          "text": [
            "array([[0.        , 0.55898552, 4.15374215],\n",
            "       [0.55898552, 0.        , 4.71297622],\n",
            "       [4.15374215, 4.71297622, 0.        ]])\n"
          ]
        }
      ]
    },
    {
      "cell_type": "code",
      "source": [
        "q_learn.train(episodes=1000)"
      ],
      "metadata": {
        "id": "xpMV3TU9AcSy"
      },
      "execution_count": 31,
      "outputs": []
    },
    {
      "cell_type": "code",
      "source": [
        "print(q_learn.start_duration)\n",
        "print(q_learn.end_duration)"
      ],
      "metadata": {
        "colab": {
          "base_uri": "https://localhost:8080/"
        },
        "id": "GJSud8BDN_gh",
        "outputId": "e4e83f0e-fa04-4f4f-adeb-38d4878dcb45"
      },
      "execution_count": 32,
      "outputs": [
        {
          "output_type": "stream",
          "name": "stdout",
          "text": [
            "[7.0490833532172115, 6.51395848246242, 6.077755905511812]\n",
            "[4.717450091465839, 3.3665891195418753, 25.43396564065855]\n"
          ]
        }
      ]
    },
    {
      "cell_type": "code",
      "source": [
        "print(q_learn.table)"
      ],
      "metadata": {
        "colab": {
          "base_uri": "https://localhost:8080/"
        },
        "id": "85epJmqWEoSm",
        "outputId": "9468aa6e-583a-4b0c-c3e7-f8e5e0c9d4fb"
      },
      "execution_count": 33,
      "outputs": [
        {
          "output_type": "stream",
          "name": "stdout",
          "text": [
            "{(): array([-7.00871736, -6.48948488, -6.07775591]), (0,): array([ 0.        , -0.76164036, -1.17132447]), (0, 1): array([ 0.       ,  0.       , -4.5203862]), (0, 1, 2): array([    0.        ,     0.        , -9920.45618305]), (1,): array([-1.08056248,  0.        , -1.27721656]), (1, 0): array([ 0.       ,  0.       , -4.3393061]), (1, 0, 2): array([    0.       ,     0.       , -9947.4674017]), (2,): array([-5.47437967, -9.76006747,  0.        ]), (2, 0): array([ 0.        , -0.81419971,  0.        ]), (2, 0, 1): array([    0., -9999.,     0.]), (2, 1): array([-0.95315415,  0.        ,  0.        ]), (2, 1, 0): array([-9999.,     0.,     0.]), (1, 2): array([-3.25368647,  0.        ,  0.        ]), (1, 2, 0): array([-2709.729,     0.   ,     0.   ]), (0, 2): array([ 0.       , -3.1421056,  0.       ]), (0, 2, 1): array([    0.   , -2709.729,     0.   ])}\n"
          ]
        }
      ]
    },
    {
      "cell_type": "code",
      "source": [
        "\n",
        "policy = {}\n",
        "for state, q_values in q_learn.table.items():\n",
        "    mask = np.ones_like(q_values, dtype=bool)\n",
        "    for visited in state:\n",
        "        mask[visited] = False\n",
        "\n",
        "    # mask off indices of parking structures we already visited\n",
        "    masked_q_values = np.where(mask, q_values, -np.inf)\n",
        "    best_action = np.argmax(masked_q_values)\n",
        "    if best_action in state:\n",
        "        policy[state] = None\n",
        "    else:\n",
        "        policy[state] = np.argmax(masked_q_values)\n"
      ],
      "metadata": {
        "id": "YR8lvFH9OLcI"
      },
      "execution_count": 34,
      "outputs": []
    },
    {
      "cell_type": "code",
      "source": [
        "print(\"Learned Policy:\")\n",
        "names = list(parking_probability_map.keys())\n",
        "results = []\n",
        "for state, action in policy.items():\n",
        "    # Pair each number in the order with the corresponding name\n",
        "    name_state = ' -> '.join([names[visited] for visited in state])\n",
        "    optimal_action_name = names[action] if action else None\n",
        "    print(\"Visited:\", name_state)\n",
        "    print(\"Optimal Action:\", optimal_action_name)\n",
        "    print()\n",
        "    results.append((name_state, optimal_action_name))\n",
        "\n",
        "\n"
      ],
      "metadata": {
        "colab": {
          "base_uri": "https://localhost:8080/"
        },
        "id": "WafQF2jATghe",
        "outputId": "5f924faf-80b4-4bad-f868-2b7bc5d5ecc5"
      },
      "execution_count": 35,
      "outputs": [
        {
          "output_type": "stream",
          "name": "stdout",
          "text": [
            "Learned Policy:\n",
            "Visited: \n",
            "Optimal Action: Wilbur Field Garage\n",
            "\n",
            "Visited: Roble Field Garage\n",
            "Optimal Action: Via Ortega Garage\n",
            "\n",
            "Visited: Roble Field Garage -> Via Ortega Garage\n",
            "Optimal Action: Wilbur Field Garage\n",
            "\n",
            "Visited: Roble Field Garage -> Via Ortega Garage -> Wilbur Field Garage\n",
            "Optimal Action: None\n",
            "\n",
            "Visited: Via Ortega Garage\n",
            "Optimal Action: None\n",
            "\n",
            "Visited: Via Ortega Garage -> Roble Field Garage\n",
            "Optimal Action: Wilbur Field Garage\n",
            "\n",
            "Visited: Via Ortega Garage -> Roble Field Garage -> Wilbur Field Garage\n",
            "Optimal Action: None\n",
            "\n",
            "Visited: Wilbur Field Garage\n",
            "Optimal Action: None\n",
            "\n",
            "Visited: Wilbur Field Garage -> Roble Field Garage\n",
            "Optimal Action: Via Ortega Garage\n",
            "\n",
            "Visited: Wilbur Field Garage -> Roble Field Garage -> Via Ortega Garage\n",
            "Optimal Action: None\n",
            "\n",
            "Visited: Wilbur Field Garage -> Via Ortega Garage\n",
            "Optimal Action: None\n",
            "\n",
            "Visited: Wilbur Field Garage -> Via Ortega Garage -> Roble Field Garage\n",
            "Optimal Action: None\n",
            "\n",
            "Visited: Via Ortega Garage -> Wilbur Field Garage\n",
            "Optimal Action: None\n",
            "\n",
            "Visited: Via Ortega Garage -> Wilbur Field Garage -> Roble Field Garage\n",
            "Optimal Action: None\n",
            "\n",
            "Visited: Roble Field Garage -> Wilbur Field Garage\n",
            "Optimal Action: Via Ortega Garage\n",
            "\n",
            "Visited: Roble Field Garage -> Wilbur Field Garage -> Via Ortega Garage\n",
            "Optimal Action: None\n",
            "\n"
          ]
        }
      ]
    },
    {
      "cell_type": "code",
      "source": [],
      "metadata": {
        "id": "RhI_dKnEOl-_"
      },
      "execution_count": null,
      "outputs": []
    }
  ]
}